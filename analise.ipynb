{
 "cells": [
  {
   "cell_type": "code",
   "execution_count": 1,
   "id": "576a6962",
   "metadata": {},
   "outputs": [],
   "source": [
    "import pandas as pd\n",
    "import numpy as np"
   ]
  },
  {
   "cell_type": "code",
   "execution_count": 2,
   "id": "ac6c75ad",
   "metadata": {},
   "outputs": [],
   "source": [
    "arquivo = r\"C:\\Users\\felyp\\OneDrive\\UTFPR  - Curso Analise de Dados\\Aula 3\\datatran2025.xlsx\""
   ]
  },
  {
   "cell_type": "code",
   "execution_count": 5,
   "id": "4186dc68",
   "metadata": {},
   "outputs": [],
   "source": [
    "df = pd.read_excel(arquivo)"
   ]
  },
  {
   "cell_type": "code",
   "execution_count": 6,
   "id": "370cfcd1",
   "metadata": {},
   "outputs": [
    {
     "name": "stdout",
     "output_type": "stream",
     "text": [
      "       id data_inversa    dia_semana   horario  uf   br     km  \\\n",
      "0  652493   2025-01-01  quarta-feira  06:20:00  SP  116  225.0   \n",
      "1  652519   2025-01-01  quarta-feira  07:50:00  CE  116  546.2   \n",
      "2  652522   2025-01-01  quarta-feira  08:45:00  PR  369   88.2   \n",
      "3  652544   2025-01-01  quarta-feira  11:00:00  PR  116   74.0   \n",
      "4  652549   2025-01-01  quarta-feira  09:30:00  MG  251  471.0   \n",
      "\n",
      "               municipio                            causa_acidente  \\\n",
      "0              GUARULHOS  Reação tardia ou ineficiente do condutor   \n",
      "1              PENAFORTE                          Pista esburacada   \n",
      "2      CORNELIO PROCOPIO  Reação tardia ou ineficiente do condutor   \n",
      "3  CAMPINA GRANDE DO SUL  Reação tardia ou ineficiente do condutor   \n",
      "4           FRANCISCO SA                   Velocidade Incompatível   \n",
      "\n",
      "               tipo_acidente  ... feridos_graves ilesos ignorados feridos  \\\n",
      "0                 Tombamento  ...              0      0         1       1   \n",
      "1            Colisão frontal  ...              0      1         4       1   \n",
      "2           Colisão traseira  ...              0      2         0       3   \n",
      "3  Saída de leito carroçável  ...              0      4         0       1   \n",
      "4            Colisão frontal  ...              1      1         2       2   \n",
      "\n",
      "  veiculos   latitude  longitude  regional  delegacia             uop  \n",
      "0        2 -23.485868 -46.540753   SPRF-SP   DEL01-SP  UOP01-DEL01-SP  \n",
      "1        6  -7.812288 -39.083333   SPRF-CE   DEL05-CE  UOP03-DEL05-CE  \n",
      "2        2 -23.182565 -50.637228   SPRF-PR   DEL07-PR  UOP05-DEL07-PR  \n",
      "3        2 -25.365177 -49.042230   SPRF-PR   DEL01-PR  UOP02-DEL01-PR  \n",
      "4        4 -16.468013 -43.431213   SPRF-MG   DEL12-MG  UOP01-DEL12-MG  \n",
      "\n",
      "[5 rows x 30 columns]\n"
     ]
    }
   ],
   "source": [
    "print(df.head())"
   ]
  },
  {
   "cell_type": "code",
   "execution_count": 7,
   "id": "d2758a71",
   "metadata": {},
   "outputs": [
    {
     "name": "stdout",
     "output_type": "stream",
     "text": [
      "<class 'pandas.core.frame.DataFrame'>\n",
      "RangeIndex: 16729 entries, 0 to 16728\n",
      "Data columns (total 30 columns):\n",
      " #   Column                  Non-Null Count  Dtype         \n",
      "---  ------                  --------------  -----         \n",
      " 0   id                      16729 non-null  int64         \n",
      " 1   data_inversa            16729 non-null  datetime64[ns]\n",
      " 2   dia_semana              16729 non-null  object        \n",
      " 3   horario                 16729 non-null  object        \n",
      " 4   uf                      16729 non-null  object        \n",
      " 5   br                      16729 non-null  int64         \n",
      " 6   km                      16729 non-null  float64       \n",
      " 7   municipio               16729 non-null  object        \n",
      " 8   causa_acidente          16729 non-null  object        \n",
      " 9   tipo_acidente           16729 non-null  object        \n",
      " 10  classificacao_acidente  16728 non-null  object        \n",
      " 11  fase_dia                16729 non-null  object        \n",
      " 12  sentido_via             16729 non-null  object        \n",
      " 13  condicao_metereologica  16729 non-null  object        \n",
      " 14  tipo_pista              16729 non-null  object        \n",
      " 15  tracado_via             16729 non-null  object        \n",
      " 16  uso_solo                16729 non-null  object        \n",
      " 17  pessoas                 16729 non-null  int64         \n",
      " 18  mortos                  16729 non-null  int64         \n",
      " 19  feridos_leves           16729 non-null  int64         \n",
      " 20  feridos_graves          16729 non-null  int64         \n",
      " 21  ilesos                  16729 non-null  int64         \n",
      " 22  ignorados               16729 non-null  int64         \n",
      " 23  feridos                 16729 non-null  int64         \n",
      " 24  veiculos                16729 non-null  int64         \n",
      " 25  latitude                16729 non-null  float64       \n",
      " 26  longitude               16729 non-null  float64       \n",
      " 27  regional                16729 non-null  object        \n",
      " 28  delegacia               16725 non-null  object        \n",
      " 29  uop                     16723 non-null  object        \n",
      "dtypes: datetime64[ns](1), float64(3), int64(10), object(16)\n",
      "memory usage: 3.8+ MB\n",
      "None\n"
     ]
    }
   ],
   "source": [
    "print(df.info())"
   ]
  },
  {
   "cell_type": "code",
   "execution_count": 9,
   "id": "146fcab4",
   "metadata": {},
   "outputs": [
    {
     "name": "stdout",
     "output_type": "stream",
     "text": [
      "                  id                   data_inversa            br  \\\n",
      "count   16729.000000                          16729  16729.000000   \n",
      "mean   661945.979556  2025-02-15 06:07:07.377607680    208.317712   \n",
      "min    652468.000000            2025-01-01 00:00:00      0.000000   \n",
      "25%    657270.000000            2025-01-24 00:00:00    101.000000   \n",
      "50%    661966.000000            2025-02-16 00:00:00    155.000000   \n",
      "75%    666541.000000            2025-03-09 00:00:00    316.000000   \n",
      "max    687515.000000            2025-03-31 00:00:00    495.000000   \n",
      "std      5520.847979                            NaN    128.056730   \n",
      "\n",
      "                 km       pessoas        mortos  feridos_leves  \\\n",
      "count  16729.000000  16729.000000  16729.000000   16729.000000   \n",
      "mean     261.323402      2.605894      0.077052       0.903820   \n",
      "min        0.000000      1.000000      0.000000       0.000000   \n",
      "25%       74.000000      2.000000      0.000000       0.000000   \n",
      "50%      194.000000      2.000000      0.000000       1.000000   \n",
      "75%      414.900000      3.000000      0.000000       1.000000   \n",
      "max     1253.000000     69.000000      9.000000      41.000000   \n",
      "std      229.450160      2.244136      0.321745       1.094753   \n",
      "\n",
      "       feridos_graves        ilesos     ignorados       feridos      veiculos  \\\n",
      "count    16729.000000  16729.000000  16729.000000  16729.000000  16729.000000   \n",
      "mean         0.268934      1.054576      0.379401      1.172754      1.969155   \n",
      "min          0.000000      0.000000      0.000000      0.000000      1.000000   \n",
      "25%          0.000000      0.000000      0.000000      1.000000      1.000000   \n",
      "50%          0.000000      1.000000      0.000000      1.000000      2.000000   \n",
      "75%          0.000000      1.000000      1.000000      1.000000      2.000000   \n",
      "max         14.000000     68.000000     18.000000     49.000000     13.000000   \n",
      "std          0.602832      1.796417      0.777299      1.185930      1.044734   \n",
      "\n",
      "           latitude     longitude  \n",
      "count  16729.000000  16729.000000  \n",
      "mean     -18.957577    -46.357618  \n",
      "min      -33.543970    -70.426466  \n",
      "25%      -25.154000    -50.161693  \n",
      "50%      -20.510435    -46.926313  \n",
      "75%      -12.899641    -42.208653  \n",
      "max        4.461419    -34.828400  \n",
      "std        7.654388      6.150042  \n"
     ]
    }
   ],
   "source": [
    "print(df.describe())"
   ]
  }
 ],
 "metadata": {
  "kernelspec": {
   "display_name": ".venv",
   "language": "python",
   "name": "python3"
  },
  "language_info": {
   "codemirror_mode": {
    "name": "ipython",
    "version": 3
   },
   "file_extension": ".py",
   "mimetype": "text/x-python",
   "name": "python",
   "nbconvert_exporter": "python",
   "pygments_lexer": "ipython3",
   "version": "3.13.2"
  }
 },
 "nbformat": 4,
 "nbformat_minor": 5
}
