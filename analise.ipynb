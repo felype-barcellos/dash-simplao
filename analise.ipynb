{
 "cells": [
  {
   "cell_type": "code",
   "execution_count": 7,
   "id": "a6464743",
   "metadata": {},
   "outputs": [],
   "source": [
    "import pandas as pd"
   ]
  },
  {
   "cell_type": "code",
   "execution_count": 12,
   "id": "6e2111e3",
   "metadata": {},
   "outputs": [],
   "source": [
    "local_arquivo_acidentes =r'C:\\Users\\felyp\\OneDrive\\UTFPR  - Curso Analise de Dados\\Pré - Projeto\\acidentes2025_todas_causas_tipos.csv'"
   ]
  },
  {
   "cell_type": "code",
   "execution_count": 16,
   "id": "2d7751d2",
   "metadata": {},
   "outputs": [],
   "source": [
    "datatran = pd.read_csv(local_arquivo_acidentes, encoding='ISO-8859-1' ,sep=';')"
   ]
  },
  {
   "cell_type": "code",
   "execution_count": 28,
   "id": "3e2cc4a5",
   "metadata": {},
   "outputs": [],
   "source": [
    "eixo_x = datatran.groupby('data_inversa')['id'].nunique().reset_index(name='total_acidentes')['data_inversa']\n",
    "eixo_y = datatran.groupby('data_inversa')['id'].nunique().reset_index(name='total_acidentes')['total_acidentes']"
   ]
  },
  {
   "cell_type": "code",
   "execution_count": 36,
   "id": "05df3306",
   "metadata": {
    "vscode": {
     "languageId": "javascript"
    }
   },
   "outputs": [],
   "source": [
    "df_acidentes_por_hora = datatran.groupby(datatran['horario'].str.slice(0, 2))['id'].nunique().reset_index()\n",
    "df_acidentes_por_hora.columns = ['hora', 'total_de_acidentes']"
   ]
  },
  {
   "cell_type": "code",
   "execution_count": 38,
   "id": "c130e542",
   "metadata": {
    "vscode": {
     "languageId": "javascript"
    }
   },
   "outputs": [],
   "source": [
    "df_acidentes_por_fase_dia = datatran.groupby('fase_dia')['id'].nunique().reset_index(name='total_acidentes')"
   ]
  },
  {
   "cell_type": "code",
   "execution_count": 39,
   "id": "9fc810de",
   "metadata": {
    "vscode": {
     "languageId": "javascript"
    }
   },
   "outputs": [
    {
     "data": {
      "text/html": [
       "<div>\n",
       "<style scoped>\n",
       "    .dataframe tbody tr th:only-of-type {\n",
       "        vertical-align: middle;\n",
       "    }\n",
       "\n",
       "    .dataframe tbody tr th {\n",
       "        vertical-align: top;\n",
       "    }\n",
       "\n",
       "    .dataframe thead th {\n",
       "        text-align: right;\n",
       "    }\n",
       "</style>\n",
       "<table border=\"1\" class=\"dataframe\">\n",
       "  <thead>\n",
       "    <tr style=\"text-align: right;\">\n",
       "      <th></th>\n",
       "      <th>fase_dia</th>\n",
       "      <th>total_acidentes</th>\n",
       "    </tr>\n",
       "  </thead>\n",
       "  <tbody>\n",
       "    <tr>\n",
       "      <th>0</th>\n",
       "      <td>Amanhecer</td>\n",
       "      <td>1027</td>\n",
       "    </tr>\n",
       "    <tr>\n",
       "      <th>1</th>\n",
       "      <td>Anoitecer</td>\n",
       "      <td>1159</td>\n",
       "    </tr>\n",
       "    <tr>\n",
       "      <th>2</th>\n",
       "      <td>Plena Noite</td>\n",
       "      <td>7318</td>\n",
       "    </tr>\n",
       "    <tr>\n",
       "      <th>3</th>\n",
       "      <td>Pleno dia</td>\n",
       "      <td>12995</td>\n",
       "    </tr>\n",
       "  </tbody>\n",
       "</table>\n",
       "</div>"
      ],
      "text/plain": [
       "      fase_dia  total_acidentes\n",
       "0    Amanhecer             1027\n",
       "1    Anoitecer             1159\n",
       "2  Plena Noite             7318\n",
       "3    Pleno dia            12995"
      ]
     },
     "execution_count": 39,
     "metadata": {},
     "output_type": "execute_result"
    }
   ],
   "source": [
    "df_acidentes_por_fase_dia.head()"
   ]
  },
  {
   "cell_type": "code",
   "execution_count": 41,
   "id": "aab85165",
   "metadata": {},
   "outputs": [
    {
     "data": {
      "text/html": [
       "<div>\n",
       "<style scoped>\n",
       "    .dataframe tbody tr th:only-of-type {\n",
       "        vertical-align: middle;\n",
       "    }\n",
       "\n",
       "    .dataframe tbody tr th {\n",
       "        vertical-align: top;\n",
       "    }\n",
       "\n",
       "    .dataframe thead th {\n",
       "        text-align: right;\n",
       "    }\n",
       "</style>\n",
       "<table border=\"1\" class=\"dataframe\">\n",
       "  <thead>\n",
       "    <tr style=\"text-align: right;\">\n",
       "      <th></th>\n",
       "      <th>estado_fisico</th>\n",
       "      <th>total_acidentes</th>\n",
       "    </tr>\n",
       "  </thead>\n",
       "  <tbody>\n",
       "    <tr>\n",
       "      <th>0</th>\n",
       "      <td>Ileso</td>\n",
       "      <td>14019</td>\n",
       "    </tr>\n",
       "    <tr>\n",
       "      <th>1</th>\n",
       "      <td>Lesões Graves</td>\n",
       "      <td>4965</td>\n",
       "    </tr>\n",
       "    <tr>\n",
       "      <th>2</th>\n",
       "      <td>Lesões Leves</td>\n",
       "      <td>14459</td>\n",
       "    </tr>\n",
       "    <tr>\n",
       "      <th>3</th>\n",
       "      <td>Não Informado</td>\n",
       "      <td>3056</td>\n",
       "    </tr>\n",
       "    <tr>\n",
       "      <th>4</th>\n",
       "      <td>Óbito</td>\n",
       "      <td>1533</td>\n",
       "    </tr>\n",
       "  </tbody>\n",
       "</table>\n",
       "</div>"
      ],
      "text/plain": [
       "   estado_fisico  total_acidentes\n",
       "0          Ileso            14019\n",
       "1  Lesões Graves             4965\n",
       "2   Lesões Leves            14459\n",
       "3  Não Informado             3056\n",
       "4          Óbito             1533"
      ]
     },
     "execution_count": 41,
     "metadata": {},
     "output_type": "execute_result"
    }
   ],
   "source": [
    "df_acidentes_por_estado_fisico = datatran.groupby('estado_fisico')['id'].nunique().reset_index(name='total_acidentes')\n",
    "df_acidentes_por_estado_fisico.head()"
   ]
  },
  {
   "cell_type": "code",
   "execution_count": 42,
   "id": "bb112f46",
   "metadata": {
    "vscode": {
     "languageId": "javascript"
    }
   },
   "outputs": [
    {
     "data": {
      "text/html": [
       "<div>\n",
       "<style scoped>\n",
       "    .dataframe tbody tr th:only-of-type {\n",
       "        vertical-align: middle;\n",
       "    }\n",
       "\n",
       "    .dataframe tbody tr th {\n",
       "        vertical-align: top;\n",
       "    }\n",
       "\n",
       "    .dataframe thead th {\n",
       "        text-align: right;\n",
       "    }\n",
       "</style>\n",
       "<table border=\"1\" class=\"dataframe\">\n",
       "  <thead>\n",
       "    <tr style=\"text-align: right;\">\n",
       "      <th></th>\n",
       "      <th>dia_semana</th>\n",
       "      <th>total_acidentes</th>\n",
       "    </tr>\n",
       "  </thead>\n",
       "  <tbody>\n",
       "    <tr>\n",
       "      <th>0</th>\n",
       "      <td>domingo</td>\n",
       "      <td>3551</td>\n",
       "    </tr>\n",
       "    <tr>\n",
       "      <th>1</th>\n",
       "      <td>quarta-feira</td>\n",
       "      <td>3172</td>\n",
       "    </tr>\n",
       "    <tr>\n",
       "      <th>2</th>\n",
       "      <td>quinta-feira</td>\n",
       "      <td>2941</td>\n",
       "    </tr>\n",
       "    <tr>\n",
       "      <th>3</th>\n",
       "      <td>segunda-feira</td>\n",
       "      <td>3206</td>\n",
       "    </tr>\n",
       "    <tr>\n",
       "      <th>4</th>\n",
       "      <td>sexta-feira</td>\n",
       "      <td>3374</td>\n",
       "    </tr>\n",
       "  </tbody>\n",
       "</table>\n",
       "</div>"
      ],
      "text/plain": [
       "      dia_semana  total_acidentes\n",
       "0        domingo             3551\n",
       "1   quarta-feira             3172\n",
       "2   quinta-feira             2941\n",
       "3  segunda-feira             3206\n",
       "4    sexta-feira             3374"
      ]
     },
     "execution_count": 42,
     "metadata": {},
     "output_type": "execute_result"
    }
   ],
   "source": [
    "df_acidentes_por_dia_semana = datatran.groupby('dia_semana')['id'].nunique().reset_index(name='total_acidentes')\n",
    "df_acidentes_por_dia_semana.head()"
   ]
  },
  {
   "cell_type": "code",
   "execution_count": null,
   "id": "0448dfb9",
   "metadata": {
    "vscode": {
     "languageId": "javascript"
    }
   },
   "outputs": [],
   "source": [
    "datatran['latitude'] = datatran['latitude'].astype(str).str.replace(',', '.').astype(float)\n",
    "datatran['longitude'] = datatran['longitude'].astype(str).str.replace(',', '.').astype(float)"
   ]
  },
  {
   "cell_type": "code",
   "execution_count": 46,
   "id": "81441c9a",
   "metadata": {
    "vscode": {
     "languageId": "ruby"
    }
   },
   "outputs": [
    {
     "data": {
      "text/html": [
       "<div>\n",
       "<style scoped>\n",
       "    .dataframe tbody tr th:only-of-type {\n",
       "        vertical-align: middle;\n",
       "    }\n",
       "\n",
       "    .dataframe tbody tr th {\n",
       "        vertical-align: top;\n",
       "    }\n",
       "\n",
       "    .dataframe thead th {\n",
       "        text-align: right;\n",
       "    }\n",
       "</style>\n",
       "<table border=\"1\" class=\"dataframe\">\n",
       "  <thead>\n",
       "    <tr style=\"text-align: right;\">\n",
       "      <th></th>\n",
       "      <th>latitude</th>\n",
       "      <th>longitude</th>\n",
       "    </tr>\n",
       "  </thead>\n",
       "  <tbody>\n",
       "    <tr>\n",
       "      <th>0</th>\n",
       "      <td>-8.207607</td>\n",
       "      <td>-34.983720</td>\n",
       "    </tr>\n",
       "    <tr>\n",
       "      <th>4</th>\n",
       "      <td>-26.912758</td>\n",
       "      <td>-48.711998</td>\n",
       "    </tr>\n",
       "    <tr>\n",
       "      <th>6</th>\n",
       "      <td>-16.133518</td>\n",
       "      <td>-49.047565</td>\n",
       "    </tr>\n",
       "    <tr>\n",
       "      <th>11</th>\n",
       "      <td>-25.372287</td>\n",
       "      <td>-49.138134</td>\n",
       "    </tr>\n",
       "    <tr>\n",
       "      <th>12</th>\n",
       "      <td>-15.658386</td>\n",
       "      <td>-47.791534</td>\n",
       "    </tr>\n",
       "  </tbody>\n",
       "</table>\n",
       "</div>"
      ],
      "text/plain": [
       "     latitude  longitude\n",
       "0   -8.207607 -34.983720\n",
       "4  -26.912758 -48.711998\n",
       "6  -16.133518 -49.047565\n",
       "11 -25.372287 -49.138134\n",
       "12 -15.658386 -47.791534"
      ]
     },
     "execution_count": 46,
     "metadata": {},
     "output_type": "execute_result"
    }
   ],
   "source": [
    "df_lat_long_unicas = datatran[['latitude', 'longitude']].drop_duplicates()\n",
    "df_lat_long_unicas.head()\n",
    "\n",
    "\n"
   ]
  }
 ],
 "metadata": {
  "kernelspec": {
   "display_name": ".venv",
   "language": "python",
   "name": "python3"
  },
  "language_info": {
   "codemirror_mode": {
    "name": "ipython",
    "version": 3
   },
   "file_extension": ".py",
   "mimetype": "text/x-python",
   "name": "python",
   "nbconvert_exporter": "python",
   "pygments_lexer": "ipython3",
   "version": "3.13.2"
  }
 },
 "nbformat": 4,
 "nbformat_minor": 5
}
