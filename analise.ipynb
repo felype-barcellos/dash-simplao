{
 "cells": [
  {
   "cell_type": "code",
   "execution_count": null,
   "id": "576a6962",
   "metadata": {},
   "outputs": [],
   "source": [
    "import pandas as pd\n",
    "import numpy as np"
   ]
  },
  {
   "cell_type": "code",
   "execution_count": null,
   "id": "ac6c75ad",
   "metadata": {},
   "outputs": [],
   "source": [
    "arquivo = r\"C:\\Users\\felyp\\OneDrive\\UTFPR  - Curso Analise de Dados\\Aula 3\\datatran2025.xlsx\""
   ]
  },
  {
   "cell_type": "code",
   "execution_count": null,
   "id": "4186dc68",
   "metadata": {},
   "outputs": [],
   "source": [
    "df = pd.read_excel(arquivo)"
   ]
  },
  {
   "cell_type": "code",
   "execution_count": null,
   "id": "370cfcd1",
   "metadata": {},
   "outputs": [],
   "source": [
    "df.head()"
   ]
  },
  {
   "cell_type": "code",
   "execution_count": null,
   "id": "d2758a71",
   "metadata": {},
   "outputs": [],
   "source": [
    "df.info(30)"
   ]
  },
  {
   "cell_type": "code",
   "execution_count": null,
   "id": "146fcab4",
   "metadata": {},
   "outputs": [],
   "source": [
    "df['mortos'].describe()"
   ]
  },
  {
   "cell_type": "code",
   "execution_count": null,
   "id": "63c34cf1",
   "metadata": {},
   "outputs": [],
   "source": [
    "df.isnull().sum()"
   ]
  },
  {
   "cell_type": "code",
   "execution_count": null,
   "id": "ac4d241f",
   "metadata": {},
   "outputs": [],
   "source": [
    "df.nunique()"
   ]
  },
  {
   "cell_type": "code",
   "execution_count": null,
   "id": "bb860ddc",
   "metadata": {},
   "outputs": [],
   "source": [
    "df.corr(numeric_only=True)"
   ]
  }
 ],
 "metadata": {
  "kernelspec": {
   "display_name": ".venv",
   "language": "python",
   "name": "python3"
  },
  "language_info": {
   "codemirror_mode": {
    "name": "ipython",
    "version": 3
   },
   "file_extension": ".py",
   "mimetype": "text/x-python",
   "name": "python",
   "nbconvert_exporter": "python",
   "pygments_lexer": "ipython3",
   "version": "3.13.2"
  }
 },
 "nbformat": 4,
 "nbformat_minor": 5
}
